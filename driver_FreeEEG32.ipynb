{
 "cells": [
  {
   "cell_type": "code",
   "execution_count": 1,
   "metadata": {},
   "outputs": [],
   "source": [
    "import datetime\n",
    "import time\n",
    "import serial\n",
    "import numpy as np\n",
    "import pyedflib"
   ]
  },
  {
   "cell_type": "code",
   "execution_count": 3,
   "metadata": {},
   "outputs": [],
   "source": [
    "# '/dev/ttyUSB0'\n",
    "# '/dev/ttyACM0'"
   ]
  },
  {
   "cell_type": "code",
   "execution_count": 4,
   "metadata": {
    "scrolled": true
   },
   "outputs": [],
   "source": [
    "ser = serial.Serial(\n",
    "    port = '/dev/ttyUSB0',\\\n",
    "    baudrate=921600\n",
    "#     parity=serial.PARITY_NONE,\\\n",
    "#     stopbits=serial.STOPBITS_ONE,\\\n",
    "#     bytesize=serial.EIGHTBITS,\\\n",
    "#     timeout=0\n",
    ")"
   ]
  },
  {
   "cell_type": "code",
   "execution_count": null,
   "metadata": {},
   "outputs": [],
   "source": [
    "now = datetime.datetime.now()\n",
    "temp_time_stamp = '%02d-%02d-%02d_%02d-%02d' % (now.year, now.month, now.day, now.hour, now.minute)\n",
    "\n",
    "chennels = 32\n",
    "edfWriter = pyedflib.EdfWriter(temp_time_stamp+\".bdf\", chennels, file_type=pyedflib.FILETYPE_BDFPLUS)\n",
    "channel_info = {'label': 'ch', 'dimension': 'uV', 'sample_rate': int(round(512)),\n",
    "                'physical_max': 312500, 'physical_min': -312500,\n",
    "                'digital_max': 8388607, 'digital_min': -8388607,\n",
    "                'prefilter': 'nome', 'transducer': 'none'}\n",
    "edfWriter.setTechnician('')\n",
    "edfWriter.setRecordingAdditional('sleep')\n",
    "edfWriter.setPatientName('')\n",
    "edfWriter.setPatientCode('')\n",
    "edfWriter.setPatientAdditional('')\n",
    "edfWriter.setAdmincode('')\n",
    "edfWriter.setEquipment('FreeEEG32')\n",
    "edfWriter.setGender(0)\n",
    "edfWriter.setStartdatetime(datetime.datetime.now())\n",
    "\n",
    "for che in range(chennels):\n",
    "    edfWriter.setSignalHeader(che, channel_info.copy())\n",
    "    edfWriter.setLabel(che, 'Channel ' + str(che+1))\n",
    "\n",
    "frameIndex = 0\n",
    "data = []\n",
    "data1 = []\n",
    "error = []\n",
    "frameSize = 0\n",
    "\n",
    "def eeg_null():\n",
    "    eeg = [0] * 32\n",
    "    for i in range(32):\n",
    "        eeg[i] = [] * 1\n",
    "    return eeg\n",
    "\n",
    "eeg = eeg_null()\n",
    "        \n",
    "while True:\n",
    "    item = ser.read(ser.inWaiting())\n",
    "    for x in item:\n",
    "        #start\n",
    "        if ( frameIndex == 0 ) and ( x == 160 ):\n",
    "            frameIndex +=1\n",
    "        else:\n",
    "            if ( frameIndex == 1 ):\n",
    "                frameIndex +=1\n",
    "                frameSize = 104\n",
    "            else:\n",
    "                if ( frameIndex > 1 ) and ( frameIndex < frameSize ):\n",
    "                    frameIndex +=1\n",
    "                    data1.append(x)\n",
    "\n",
    "                else:\n",
    "                    if ( frameIndex == frameSize ) and ( x == 192 ):\n",
    "                        if ( len(data1) == 102 ):\n",
    "                            #eeg\n",
    "                            for i in range(32):\n",
    "                                    eeg[i].append(int.from_bytes([data1[3*i], data1[3*i+1], data1[3*i+2]], byteorder = 'big', signed=True))\n",
    "                            if ( len(eeg[0]) == 512 ):\n",
    "                                edfWriter.writeSamples(np.asarray(eeg, dtype = np.float64)*0.0372529074)\n",
    "                                eeg = eeg_null()\n",
    "                        data1 = []\n",
    "                        frameIndex = 0\n",
    "                    else:\n",
    "#                         print(datetime.datetime.now())"
   ]
  },
  {
   "cell_type": "code",
   "execution_count": 7,
   "metadata": {},
   "outputs": [],
   "source": [
    "edfWriter.close()"
   ]
  }
 ],
 "metadata": {
  "kernelspec": {
   "display_name": "Python 3",
   "language": "python",
   "name": "python3"
  },
  "language_info": {
   "codemirror_mode": {
    "name": "ipython",
    "version": 3
   },
   "file_extension": ".py",
   "mimetype": "text/x-python",
   "name": "python",
   "nbconvert_exporter": "python",
   "pygments_lexer": "ipython3",
   "version": "3.6.10"
  }
 },
 "nbformat": 4,
 "nbformat_minor": 4
}
